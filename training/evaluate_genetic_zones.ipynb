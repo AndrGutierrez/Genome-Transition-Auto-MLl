{
 "cells": [
  {
   "metadata": {
    "ExecuteTime": {
     "end_time": "2025-04-06T14:01:55.981877Z",
     "start_time": "2025-04-06T14:01:37.871289Z"
    }
   },
   "cell_type": "code",
   "source": [
    "# Import the GeneticZoneEvaluator class.\n",
    "# Adjust the import path according to your project structure.\n",
    "from api.GeneticZoneEvaluator import GeneticZoneEvaluator"
   ],
   "id": "97385c8223b1408",
   "outputs": [
    {
     "name": "stderr",
     "output_type": "stream",
     "text": [
      "D:\\projects\\python\\Genome-Transition-Auto-MLl\\.venv\\lib\\site-packages\\tqdm\\auto.py:21: TqdmWarning: IProgress not found. Please update jupyter and ipywidgets. See https://ipywidgets.readthedocs.io/en/stable/user_install.html\n",
      "  from .autonotebook import tqdm as notebook_tqdm\n"
     ]
    }
   ],
   "execution_count": 1
  },
  {
   "cell_type": "code",
   "id": "initial_id",
   "metadata": {
    "collapsed": true,
    "ExecuteTime": {
     "end_time": "2025-04-06T14:02:17.613534Z",
     "start_time": "2025-04-06T14:01:58.057821Z"
    }
   },
   "source": [
    "# Prepare a dictionary with model paths (example paths, modify as needed)\n",
    "model_paths = {\n",
    "    # \"ei\": [\n",
    "    #     \"../models/ei/combined/\",\n",
    "    # ],\n",
    "    \"ie\": [\n",
    "        \"../models/ie/combined/\",\n",
    "    ],\n",
    "    # \"ze\": [\n",
    "    #     \"../models/ze/combined/\",\n",
    "    # ],\n",
    "    # \"ez\": [\n",
    "    #     \"../models/ez/combined/\",\n",
    "    # ]\n",
    "}\n",
    "\n",
    "# Instantiate the evaluator.\n",
    "evaluator = GeneticZoneEvaluator(model_paths)\n",
    "\n",
    "# Define a test nucleotide string.\n",
    "# (Make sure it is long enough to evaluate ZE and EZ windows (at least 550 characters)).\n",
    "test_sequence = \"ttcctagaccttatatgtctaaactggggcttcctgacataaaactatgcttaccggccaggaatctgttagaaaactcagagctcagtagaaggaacactggctttggaatgtggaggtctggttttgctcaaagtgtgcagtatgtgaaggagaacaatttactgaccattactctgccttactgattcaaattctgaggtttattgaataatttcttagattgccttccagctctaaatttctcagcaccaaaatgaagtccatttcaatctctctctctctctttccctcccgtacatatacacacactcatacatatatatggtcacaatagaaaggcaggtagatcagaagtctcagttgctgagaaagagggagggagggtgagccagaggtaccttctcccccattgtagagaaaagtgaagttcttttagagccccgttacatcttcaaggctttttatgagataatggaggaaataaagagggctcagtccttctactgtccatatttcattctcaaatctgttattagaggaatgattctgatctccacctaccatacacatgccctgttgcttgttgggccttcctaaaatgttagagtatgatgacagatggagttgtctgggtacatttgtgtgcatttaagggtgatagtgtatttgctctttaagagctgagtgtttgagcctctgtttgtgtgtaattgagtgtgcatgtgtgggagtgaaattgtggaatgtgtatgctcatagcactgagtgaaaataaaagattgtataaatcgtggggcatgtggaattgtgtgtgcctgtgcgtgtgcagtatttttttttttttaagtaagccactttagatcttgtcacctcccctgtcttctgtgattgattttgcgaggctaatggtgcgtaaaagggctggtgagatctgggggcgcctcctagcctgacgtcagagagagagtttaaaacagagggagacggttgagagcacacaagccgctttaggagcgaggttcggagccatcgctgctgcctgctgatccgcgcctagagtttgaccagccactctccagctcggctttcgcggcgccgagatgctgtcctgccgcctccagtgcgcgctggctgcgctgtccatcgtcctggccctgggctgtgtcaccggcgctccctcggaccccagactccgtcagtttctgcagaagtccctggctgctgccgcggggaagcaggtaaggagactccctcgacgtctcccggattctccagccctccctaagccttgctcctgccccattggtttggacgtaagggatgctcagtccttctaaagagttttggtgcttttctgggtccctcagctcccgaagctcttgagaaaactatcaaaggctagaatccccttctaactctttttttcccccatgataagcgcagtcggtcacagttcaggtgagttcttacttggcattcaagaaaattacaaaatctgggtagttgtctgggcacgaagcgacaatggcgtctatccctggtgctgaccctgggaagcgctgacccaggtgctgaaacgcagacctctgaagctgctacctcttagcgtacctcacttccaaacgtcgggactagggcaaaggggcaatctaaagaccgaacgccgtatgtttgagattgtgagaagtctcgttcccctacagtttacttggtaaaaatggtaaaacaattctactttgtagctcgtgatgtgaaaattgaattaaactgttggcacacactttatcttaccagaacggtctttatgtgtgtgtgtgtgtgtgtgtgtgtgtttgtgcgtgtgtgtgtgtgtgtgtgtgtgttaagtctacagggacagaaaggttgcagaaacatttgagctcttaaagcctttttgtgtaacttggtaattatagcaactatccttatttttatatccttgattgattttaaatgtgacaaaaaatgcgcagctgtaaaaactggattttgtgtgtgaccaaatctgttctttaatttaggcttttcaaattttttccattgtcctccccacttctctttctctctttttctatcccttctgccctatacaggaactggccaagtacttcttggcagagctgctgtctgaacccaaccagacggagaatgatgccctggaacctgaagatctgtcccaggctgctgagcaggatgaaatgaggcttgagctgcagagatctgctaactcaaacccggctatggcaccccgagaacgcaaagctggctgcaagaatttcttctggaagactttcacatcctgttagctttcttaactagtattgtccatatcagacctctgatccctcgcccccacaccccatctctcttccctaatcctccaagtcttcagcgagacccttgcattagaaactgaaaactgtaaatacaaaataaaattatggtgaaattatgaaaaatgtgaatttggtttctattgagtaaatctttttgttcaataatacataataagcttgagtggcggtttcagtaaagttatttgagataggtactccaatgttcacaaacatctatttaaaattctcggtggcaataaagtttacattttaaatgataactattataacatgagtcattttaaacagaaataatttcacataactctatgcattcaaactttaattcaatgataattactgggagaggctgacataaacattaattacatattaagtacacctaaattatatgttggactattgaaatgagtgtgtgtgaatagttaggctgaaaaatccaactatctaccaggttgatatgtaaaatacataacatatgaaaagatggaaggaacaaagtcatttggtggttgagaaaaaatctgacttaaatagctaaaatgaggttctgaatttgtttctagtttgtaaacatttatctagagaaataccattgcttttgtgtcttctttgacaatcctctctaattgaacagtgctaaatgactgttttaaaagcaagcttttaagatattttttctcagggagaaatatcacttttattataagattccttctggaagtactataggttgcaagaaatgcatattggcttacctcactgagtgctatctatattgcaggtattggagctcaaaatcataattatgaaatagctgaaggagatatctcaagtcttctcttaattctatcaatatgggagtcaaataaaaacacaaaaattattcttaaacactcagtaaaggtgatagtcttataacaacatgctaaatgggatcactcaagacagaatgtaaacattgctaatttaacttcctgagacctaaagagatatcctttgggggatgtgtgttttagctatcaactgcatttctgcatagctactggaataaaaaccaaacataaatatgtatgctcaatataaatccttgtagtataaa\"\n",
    "\n",
    "# Evaluate the test sequence.\n",
    "results = evaluator.evaluate(test_sequence)\n",
    "\n",
    "# Print the evaluation results.\n",
    "print(\"Evaluation results:\")\n",
    "print(results)\n"
   ],
   "outputs": [
    {
     "name": "stderr",
     "output_type": "stream",
     "text": [
      "D:\\projects\\python\\Genome-Transition-Auto-MLl\\.venv\\lib\\site-packages\\fastai\\learner.py:455: UserWarning: load_learner` uses Python's insecure pickle module, which can execute malicious arbitrary code when loading. Only load files you trust.\n",
      "If you only need to load model weights and optimizer state, use the safe `Learner.load` instead.\n",
      "  warn(\"load_learner` uses Python's insecure pickle module, which can execute malicious arbitrary code when loading. Only load files you trust.\\nIf you only need to load model weights and optimizer state, use the safe `Learner.load` instead.\")\n",
      "2025-04-06 10:02:12,489\tINFO util.py:154 -- Missing packages: ['ipywidgets']. Run `pip install -U ipywidgets`, then restart the notebook server for rich notebook output.\n",
      "D:\\projects\\python\\Genome-Transition-Auto-MLl\\.venv\\lib\\site-packages\\fastai\\learner.py:455: UserWarning: load_learner` uses Python's insecure pickle module, which can execute malicious arbitrary code when loading. Only load files you trust.\n",
      "If you only need to load model weights and optimizer state, use the safe `Learner.load` instead.\n",
      "  warn(\"load_learner` uses Python's insecure pickle module, which can execute malicious arbitrary code when loading. Only load files you trust.\\nIf you only need to load model weights and optimizer state, use the safe `Learner.load` instead.\")\n"
     ]
    },
    {
     "name": "stdout",
     "output_type": "stream",
     "text": [
      "Evaluation results:\n",
      "{'ie': [3163]}\n"
     ]
    }
   ],
   "execution_count": 2
  }
 ],
 "metadata": {
  "kernelspec": {
   "display_name": "Python 3",
   "language": "python",
   "name": "python3"
  },
  "language_info": {
   "codemirror_mode": {
    "name": "ipython",
    "version": 2
   },
   "file_extension": ".py",
   "mimetype": "text/x-python",
   "name": "python",
   "nbconvert_exporter": "python",
   "pygments_lexer": "ipython2",
   "version": "2.7.6"
  }
 },
 "nbformat": 4,
 "nbformat_minor": 5
}
