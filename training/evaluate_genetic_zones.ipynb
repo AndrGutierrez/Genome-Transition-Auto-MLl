{
 "cells": [
  {
   "metadata": {
    "ExecuteTime": {
     "end_time": "2025-03-25T03:42:00.514275Z",
     "start_time": "2025-03-25T03:41:55.342094Z"
    }
   },
   "cell_type": "code",
   "source": [
    "# Import the GeneticZoneEvaluator class.\n",
    "# Adjust the import path according to your project structure.\n",
    "from api.GeneticZoneEvaluator import GeneticZoneEvaluator"
   ],
   "id": "97385c8223b1408",
   "outputs": [
    {
     "name": "stderr",
     "output_type": "stream",
     "text": [
      "Z:\\Proyectos\\Data\\Data Science Projects\\genome-transition-auto-ml\\.venv\\lib\\site-packages\\tqdm\\auto.py:21: TqdmWarning: IProgress not found. Please update jupyter and ipywidgets. See https://ipywidgets.readthedocs.io/en/stable/user_install.html\n",
      "  from .autonotebook import tqdm as notebook_tqdm\n"
     ]
    }
   ],
   "execution_count": 1
  },
  {
   "cell_type": "code",
   "id": "initial_id",
   "metadata": {
    "collapsed": true,
    "jupyter": {
     "is_executing": true
    },
    "ExecuteTime": {
     "start_time": "2025-03-25T04:02:21.155259Z"
    }
   },
   "source": [
    "# Prepare a dictionary with model paths (example paths, modify as needed)\n",
    "model_paths = {\n",
    "    \"ei\": [\n",
    "        \"../models/ei/ei_ez_counter/\",\n",
    "        \"../models/ei/ei_ie_counter/\",\n",
    "        \"../models/ei/ei_random/\",\n",
    "        \"../models/ei/ei_ze_counter/\",\n",
    "        \"../models/ei/sample_combined_counter/\",\n",
    "    ],\n",
    "    # \"ie\": [\n",
    "    #     \"../models/ie/ie_ei_counter/\",\n",
    "    #     \"../models/ie/ie_ez_counter/\",\n",
    "    #     \"../models/ie/ie_random/\",\n",
    "    #     \"../models/ie/ie_ze_counter/\",\n",
    "    #     \"../models/ie/sample_combined_counter/\",\n",
    "    # ],\n",
    "    # \"ze\": [\n",
    "    #     \"../models/ze/ze_ei_counter/\",\n",
    "    #     \"../models/ze/ze_ez_counter/\",\n",
    "    #     \"../models/ze/ze_ie_counter/\",\n",
    "    #     \"../models/ze/ze_random/\",\n",
    "    #     \"../models/ze/sample_combined_counter/\",\n",
    "    # ],\n",
    "    # \"ez\": [\n",
    "    #     \"../models/ez/ez_ei_counter/\",\n",
    "    #     \"../models/ez/ez_ie_counter/\",\n",
    "    #     \"../models/ez/ez_random/\",\n",
    "    #     \"../models/ez/ez_ze_counter/\",\n",
    "    #     \"../models/ez/sample_combined_counter/\",\n",
    "    # ]\n",
    "}\n",
    "\n",
    "# Instantiate the evaluator.\n",
    "evaluator = GeneticZoneEvaluator(model_paths)\n",
    "\n",
    "# Define a test nucleotide string.\n",
    "# (Make sure it is long enough to evaluate ZE and EZ windows (at least 550 characters)).\n",
    "test_sequence = \"aaaagtgatatttctccctgagaaaaaatatcttaaaagcttgcttttaaaacagtcatttagcactgttcaattagagaggattgtcaaagaagacacaaaagcaatggtatttctctagataaatgtttacaaactagaaacaaattcagaacctcattttagctatttaagtcagattttttctcaaccaccaaatgactttgttccttccatcttttcatatgttatgtattttacatatcaacctggtagatagttggatttttcagcctaactattcacacacactcatttcaatagtccaacatataatttaggtgtacttaatatgtaattaatgtttatgtcagcctctcccagtaattatcattgaattaaagtttgaatgcatagagttatgtgaaattatttctgtttaaaatgactcatgttataatagttatcatttaaaatgtaaactttattgccaccgagaattttaaatagatgtttgtgaacattggagtacctatctcaaataactttactgaaaccgccactcaagcttattatgtattattgaacaaaaagatttactcaatagaaaccaaattcacatttttcataatttcaccataattttattttgtatttacagttttcagtttctaatgcaagggtctcgctgaagacttggaggattagggaagagagatggggtgtgggggcgagggatcagaggtctgatatggacaatactagttaagaaagctaacaggatgtgaaagtcttccagaagaaattcttgcagccagctttgcgttctcggggtgccatagccgggtttgagttagcagatctctgcagctcaagcctcatttcatcctgctcagcagcctgggacagatcttcaggttccagggcatcattctccgtctggttgggttcagacagcagctctgccaagaagtacttggccagttcctgtatagggcagaagggatagaaaaagagagaaagagaagtggggaggacaatggaaaaaatttgaaaagcctaaattaaagaacagatttggtcacacacaaaatccagtttttacagctgcgcattttttgtcacatttaaaatcaatcaaggatataaaaataaggatagttgctataattaccaagttacacaaaaaggctttaagagctcaaatgtttctgcaacctttctgtccctgtagacttaacacacacacacacacacacacacgcacaaacacacacacacacacacacacacacataaagaccgttctggtaagataaagtgtgtgccaacagtttaattcaattttcacatcacgagctacaaagtagaattgttttaccatttttaccaagtaaactgtaggggaacgagacttctcacaatctcaaacatacggcgttcggtctttagattgcccctttgccctagtcccgacgtttggaagtgaggtacgctaagaggtagcagcttcagaggtctgcgtttcagcacctgggtcagcgcttcccagggtcagcaccagggatagacgccattgtcgcttcgtgcccagacaactacccagattttgtaattttcttgaatgccaagtaagaactcacctgaactgtgaccgactgcgcttatcatgggggaaaaaaagagttagaaggggattctagcctttgatagttttctcaagagcttcgggagctgagggacccagaaaagcaccaaaactctttagaaggactgagcatcccttacgtccaaaccaatggggcaggagcaaggcttagggagggctggagaatccgggagacgtcgagggagtctccttacctgcttccccgcggcagcagccagggacttctgcagaaactgacggagtctggggtccgagggagcgccggtgacacagcccagggccaggacgatggacagcgcagccagcgcgcactggaggcggcaggacagcatctcggcgccgcgaaagccgagctggagagtggctggtcaaactctaggcgcggatcagcaggcagcagcgatggctccgaacctcgctcctaaagcggcttgtgtgctctcaaccgtctccctctgttttaaactctctctctgacgtcaggctaggaggcgcccccagatctcaccagcccttttacgcaccattagcctcgcaaaatcaatcacagaagacaggggaggtgacaagatctaaagtggcttacttaaaaaaaaaaaaatactgcacacgcacaggcacacacaattccacatgccccacgatttatacaatcttttattttcactcagtgctatgagcatacacattccacaatttcactcccacacatgcacactcaattacacacaaacagaggctcaaacactcagctcttaaagagcaaatacactatcacccttaaatgcacacaaatgtacccagacaactccatctgtcatcatactctaacattttaggaaggcccaacaagcaacagggcatgtgtatggtaggtggagatcagaatcattcctctaataacagatttgagaatgaaatatggacagtagaaggactgagccctctttatttcctccattatctcataaaaagccttgaagatgtaacggggctctaaaagaacttcacttttctctacaatgggggagaagg\"\n",
    "\n",
    "# Evaluate the test sequence.\n",
    "results = evaluator.evaluate(test_sequence)\n",
    "\n",
    "# Print the evaluation results.\n",
    "print(\"Evaluation results:\")\n",
    "print(results)\n"
   ],
   "outputs": [],
   "execution_count": null
  }
 ],
 "metadata": {
  "kernelspec": {
   "display_name": "Python 3",
   "language": "python",
   "name": "python3"
  },
  "language_info": {
   "codemirror_mode": {
    "name": "ipython",
    "version": 2
   },
   "file_extension": ".py",
   "mimetype": "text/x-python",
   "name": "python",
   "nbconvert_exporter": "python",
   "pygments_lexer": "ipython2",
   "version": "2.7.6"
  }
 },
 "nbformat": 4,
 "nbformat_minor": 5
}
