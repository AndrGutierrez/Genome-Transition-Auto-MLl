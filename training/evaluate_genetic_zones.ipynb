{
 "cells": [
  {
   "metadata": {
    "ExecuteTime": {
     "end_time": "2025-05-04T19:29:01.735561Z",
     "start_time": "2025-05-04T19:28:58.148942Z"
    }
   },
   "cell_type": "code",
   "source": [
    "# Import the GeneticZoneEvaluator class.\n",
    "# Adjust the import path according to your project structure.\n",
    "from api.GeneticZoneEvaluator import GeneticZoneEvaluator"
   ],
   "id": "97385c8223b1408",
   "outputs": [
    {
     "name": "stderr",
     "output_type": "stream",
     "text": [
      "D:\\projects\\python\\Genome-Transition-Auto-MLl\\.venv\\lib\\site-packages\\tqdm\\auto.py:21: TqdmWarning: IProgress not found. Please update jupyter and ipywidgets. See https://ipywidgets.readthedocs.io/en/stable/user_install.html\n",
      "  from .autonotebook import tqdm as notebook_tqdm\n"
     ]
    }
   ],
   "execution_count": 1
  },
  {
   "cell_type": "code",
   "id": "initial_id",
   "metadata": {
    "collapsed": true,
    "ExecuteTime": {
     "end_time": "2025-05-04T19:29:37.152007Z",
     "start_time": "2025-05-04T19:29:02.574537Z"
    }
   },
   "source": [
    "# Prepare a dictionary with model paths (example paths, modify as needed)\n",
    "model_paths = {\n",
    "    \"ei\": [\n",
    "        \"../models/ei/combined/\",\n",
    "    ],\n",
    "    \"ie\": [\n",
    "        \"../models/ie/combined/\",\n",
    "    ],\n",
    "    \"ze\": [\n",
    "        \"../models/ze/combined/\",\n",
    "    ],\n",
    "    \"ez\": [\n",
    "        \"../models/ez/combined/\",\n",
    "    ]\n",
    "}\n",
    "\n",
    "# Instantiate the evaluator.\n",
    "evaluator = GeneticZoneEvaluator(model_paths)\n",
    "\n",
    "# Define a test nucleotide string.\n",
    "# (Make sure it is long enough to evaluate ZE and EZ windows (at least 550 characters)).\n",
    "test_sequence = \"ttcctagaccttatatgtctaaactggggcttcctgacataaaactatgcttaccggccaggaatctgttagaaaactcagagctcagtagaaggaacactggctttggaatgtggaggtctggttttgctcaaagtgtgcagtatgtgaaggagaacaatttactgaccattactctgccttactgattcaaattctgaggtttattgaataatttcttagattgccttccagctctaaatttctcagcaccaaaatgaagtccatttcaatctctctctctctctttccctcccgtacatatacacacactcatacatatatatggtcacaatagaaaggcaggtagatcagaagtctcagttgctgagaaagagggagggagggtgagccagaggtaccttctcccccattgtagagaaaagtgaagttcttttagagccccgttacatcttcaaggctttttatgagataatggaggaaataaagagggctcagtccttctactgtccatatttcattctcaaatctgttattagaggaatgattctgatctccacctaccatacacatgccctgttgcttgttgggccttcctaaaatgttagagtatgatgacagatggagttgtctgggtacatttgtgtgcatttaagggtgatagtgtatttgctctttaagagctgagtgtttgagcctctgtttgtgtgtaattgagtgtgcatgtgtgggagtgaaattgtggaatgtgtatgctcatagcactgagtgaaaataaaagattgtataaatcgtggggcatgtggaattgtgtgtgcctgtgcgtgtgcagtatttttttttttttaagtaagccactttagatcttgtcacctcccctgtcttctgtgattgattttgcgaggctaatggtgcgtaaaagggctggtgagatctgggggcgcctcctagcctgacgtcagagagagagtttaaaacagagggagacggttgagagcacacaagccgctttaggagcgaggttcggagccatcgctgctgcctgctgatccgcgcctagagtttgaccagccactctccagctcggctttcgcggcgccgagatgctgtcctgccgcctccagtgcgcgctggctgcgctgtccatcgtcctggccctgggctgtgtcaccggcgctccctcggaccccagactccgtcagtttctgcagaagtccctggctgctgccgcggggaagcaggtaaggagactccctcgacgtctcccggattctccagccctccctaagccttgctcctgccccattggtttggacgtaagggatgctcagtccttctaaagagttttggtgcttttctgggtccctcagctcccgaagctcttgagaaaactatcaaaggctagaatccccttctaactctttttttcccccatgataagcgcagtcggtcacagttcaggtgagttcttacttggcattcaagaaaattacaaaatctgggtagttgtctgggcacgaagcgacaatggcgtctatccctggtgctgaccctgggaagcgctgacccaggtgctgaaacgcagacctctgaagctgctacctcttagcgtacctcacttccaaacgtcgggactagggcaaaggggcaatctaaagaccgaacgccgtatgtttgagattgtgagaagtctcgttcccctacagtttacttggtaaaaatggtaaaacaattctactttgtagctcgtgatgtgaaaattgaattaaactgttggcacacactttatcttaccagaacggtctttatgtgtgtgtgtgtgtgtgtgtgtgtgtttgtgcgtgtgtgtgtgtgtgtgtgtgtgttaagtctacagggacagaaaggttgcagaaacatttgagctcttaaagcctttttgtgtaacttggtaattatagcaactatccttatttttatatccttgattgattttaaatgtgacaaaaaatgcgcagctgtaaaaactggattttgtgtgtgaccaaatctgttctttaatttaggcttttcaaattttttccattgtcctccccacttctctttctctctttttctatcccttctgccctatacaggaactggccaagtacttcttggcagagctgctgtctgaacccaaccagacggagaatgatgccctggaacctgaagatctgtcccaggctgctgagcaggatgaaatgaggcttgagctgcagagatctgctaactcaaacccggctatggcaccccgagaacgcaaagctggctgcaagaatttcttctggaagactttcacatcctgttagctttcttaactagtattgtccatatcagacctctgatccctcgcccccacaccccatctctcttccctaatcctccaagtcttcagcgagacccttgcattagaaactgaaaactgtaaatacaaaataaaattatggtgaaattatgaaaaatgtgaatttggtttctattgagtaaatctttttgttcaataatacataataagcttgagtggcggtttcagtaaagttatttgagataggtactccaatgttcacaaacatctatttaaaattctcggtggcaataaagtttacattttaaatgataactattataacatgagtcattttaaacagaaataatttcacataactctatgcattcaaactttaattcaatgataattactgggagaggctgacataaacattaattacatattaagtacacctaaattatatgttggactattgaaatgagtgtgtgtgaatagttaggctgaaaaatccaactatctaccaggttgatatgtaaaatacataacatatgaaaagatggaaggaacaaagtcatttggtggttgagaaaaaatctgacttaaatagctaaaatgaggttctgaatttgtttctagtttgtaaacatttatctagagaaataccattgcttttgtgtcttctttgacaatcctctctaattgaacagtgctaaatgactgttttaaaagcaagcttttaagatattttttctcagggagaaatatcacttttattataagattccttctggaagtactataggttgcaagaaatgcatattggcttacctcactgagtgctatctatattgcaggtattggagctcaaaatcataattatgaaatagctgaaggagatatctcaagtcttctcttaattctatcaatatgggagtcaaataaaaacacaaaaattattcttaaacactcagtaaaggtgatagtcttataacaacatgctaaatgggatcactcaagacagaatgtaaacattgctaatttaacttcctgagacctaaagagatatcctttgggggatgtgtgttttagctatcaactgcatttctgcatagctactggaataaaaaccaaacataaatatgtatgctcaatataaatccttgtagtataaa\"\n",
    "\n",
    "# Evaluate the test sequence.\n",
    "results = evaluator.evaluate(test_sequence)\n",
    "\n",
    "# Print the evaluation results.\n",
    "print(\"Evaluation results:\")\n",
    "print(results)\n"
   ],
   "outputs": [
    {
     "name": "stderr",
     "output_type": "stream",
     "text": [
      "D:\\projects\\python\\Genome-Transition-Auto-MLl\\.venv\\lib\\site-packages\\fastai\\learner.py:455: UserWarning: load_learner` uses Python's insecure pickle module, which can execute malicious arbitrary code when loading. Only load files you trust.\n",
      "If you only need to load model weights and optimizer state, use the safe `Learner.load` instead.\n",
      "  warn(\"load_learner` uses Python's insecure pickle module, which can execute malicious arbitrary code when loading. Only load files you trust.\\nIf you only need to load model weights and optimizer state, use the safe `Learner.load` instead.\")\n",
      "2025-05-04 15:29:11,905\tINFO util.py:154 -- Missing packages: ['ipywidgets']. Run `pip install -U ipywidgets`, then restart the notebook server for rich notebook output.\n"
     ]
    },
    {
     "name": "stdout",
     "output_type": "stream",
     "text": [
      "        false      true\n",
      "84   0.010890  0.989110\n",
      "95   0.011453  0.988547\n",
      "17   0.019818  0.980182\n",
      "201  0.026670  0.973330\n",
      "18   0.033199  0.966801\n",
      "67   0.084214  0.915786\n",
      "4    0.100144  0.899856\n",
      "102  0.108523  0.891477\n",
      "133  0.112700  0.887300\n",
      "181  0.116149  0.883851\n",
      "4: True\n",
      "17: True\n",
      "18: True\n",
      "67: True\n",
      "84: True\n",
      "95: True\n",
      "102: True\n",
      "133: True\n",
      "181: True\n",
      "201: True\n",
      "(214,)\n",
      "214\n"
     ]
    },
    {
     "name": "stderr",
     "output_type": "stream",
     "text": [
      "D:\\projects\\python\\Genome-Transition-Auto-MLl\\.venv\\lib\\site-packages\\fastai\\learner.py:455: UserWarning: load_learner` uses Python's insecure pickle module, which can execute malicious arbitrary code when loading. Only load files you trust.\n",
      "If you only need to load model weights and optimizer state, use the safe `Learner.load` instead.\n",
      "  warn(\"load_learner` uses Python's insecure pickle module, which can execute malicious arbitrary code when loading. Only load files you trust.\\nIf you only need to load model weights and optimizer state, use the safe `Learner.load` instead.\")\n",
      "D:\\projects\\python\\Genome-Transition-Auto-MLl\\.venv\\lib\\site-packages\\fastai\\learner.py:455: UserWarning: load_learner` uses Python's insecure pickle module, which can execute malicious arbitrary code when loading. Only load files you trust.\n",
      "If you only need to load model weights and optimizer state, use the safe `Learner.load` instead.\n",
      "  warn(\"load_learner` uses Python's insecure pickle module, which can execute malicious arbitrary code when loading. Only load files you trust.\\nIf you only need to load model weights and optimizer state, use the safe `Learner.load` instead.\")\n"
     ]
    },
    {
     "name": "stdout",
     "output_type": "stream",
     "text": [
      "        false      true\n",
      "196  0.031028  0.968972\n",
      "7    0.040112  0.959888\n",
      "97   0.041789  0.958211\n",
      "125  0.042849  0.957151\n",
      "134  0.082710  0.917290\n",
      "189  0.092047  0.907953\n",
      "51   0.111972  0.888028\n",
      "211  0.133062  0.866938\n",
      "85   0.149046  0.850954\n",
      "133  0.181361  0.818639\n",
      "7: True\n",
      "51: True\n",
      "85: True\n",
      "97: True\n",
      "125: True\n",
      "133: True\n",
      "134: True\n",
      "189: True\n",
      "196: True\n",
      "211: True\n"
     ]
    },
    {
     "name": "stderr",
     "output_type": "stream",
     "text": [
      "D:\\projects\\python\\Genome-Transition-Auto-MLl\\.venv\\lib\\site-packages\\fastai\\learner.py:455: UserWarning: load_learner` uses Python's insecure pickle module, which can execute malicious arbitrary code when loading. Only load files you trust.\n",
      "If you only need to load model weights and optimizer state, use the safe `Learner.load` instead.\n",
      "  warn(\"load_learner` uses Python's insecure pickle module, which can execute malicious arbitrary code when loading. Only load files you trust.\\nIf you only need to load model weights and optimizer state, use the safe `Learner.load` instead.\")\n"
     ]
    },
    {
     "name": "stdout",
     "output_type": "stream",
     "text": [
      "        false      true\n",
      "700  0.023192  0.976808\n",
      "739  0.024447  0.975553\n",
      "743  0.027391  0.972609\n",
      "699  0.031067  0.968933\n",
      "765  0.032921  0.967079\n",
      "752  0.033948  0.966052\n",
      "696  0.035789  0.964211\n",
      "678  0.036201  0.963799\n",
      "776  0.036313  0.963687\n",
      "818  0.038522  0.961478\n",
      "678: True\n",
      "696: True\n",
      "699: True\n",
      "700: True\n",
      "739: True\n",
      "743: True\n",
      "752: True\n",
      "765: True\n",
      "776: True\n",
      "818: True\n"
     ]
    },
    {
     "name": "stderr",
     "output_type": "stream",
     "text": [
      "D:\\projects\\python\\Genome-Transition-Auto-MLl\\.venv\\lib\\site-packages\\fastai\\learner.py:455: UserWarning: load_learner` uses Python's insecure pickle module, which can execute malicious arbitrary code when loading. Only load files you trust.\n",
      "If you only need to load model weights and optimizer state, use the safe `Learner.load` instead.\n",
      "  warn(\"load_learner` uses Python's insecure pickle module, which can execute malicious arbitrary code when loading. Only load files you trust.\\nIf you only need to load model weights and optimizer state, use the safe `Learner.load` instead.\")\n"
     ]
    },
    {
     "name": "stdout",
     "output_type": "stream",
     "text": [
      "         false      true\n",
      "2821  0.115217  0.884783\n",
      "1693  0.116504  0.883496\n",
      "2705  0.121495  0.878505\n",
      "2634  0.122059  0.877941\n",
      "2633  0.125372  0.874628\n",
      "1951  0.126498  0.873502\n",
      "739   0.127730  0.872270\n",
      "2410  0.128015  0.871985\n",
      "1686  0.129501  0.870499\n",
      "455   0.130157  0.869843\n",
      "455: True\n",
      "739: True\n",
      "1686: True\n",
      "1693: True\n",
      "1951: True\n",
      "2410: True\n",
      "2633: True\n",
      "2634: True\n",
      "2705: True\n",
      "2821: True\n",
      "Evaluation results:\n",
      "{'ei': [118, 386, 397, 911, 1241, 1461, 1571, 1843, 2794, 3165], 'ie': [232, 760, 1209, 1368, 1874, 2043, 2115, 3064, 3163, 3398], 'ze': [678, 696, 699, 700, 739, 743, 752, 765, 776, 818], 'ez': [455, 739, 1686, 1693, 1951, 2410, 2633, 2634, 2705, 2821]}\n"
     ]
    }
   ],
   "execution_count": 2
  }
 ],
 "metadata": {
  "kernelspec": {
   "display_name": "Python 3",
   "language": "python",
   "name": "python3"
  },
  "language_info": {
   "codemirror_mode": {
    "name": "ipython",
    "version": 2
   },
   "file_extension": ".py",
   "mimetype": "text/x-python",
   "name": "python",
   "nbconvert_exporter": "python",
   "pygments_lexer": "ipython2",
   "version": "2.7.6"
  }
 },
 "nbformat": 4,
 "nbformat_minor": 5
}
