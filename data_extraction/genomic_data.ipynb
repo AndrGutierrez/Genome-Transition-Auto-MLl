{
 "cells": [
  {
   "metadata": {
    "ExecuteTime": {
     "end_time": "2025-03-21T23:38:43.368689Z",
     "start_time": "2025-03-21T23:38:42.031386Z"
    }
   },
   "cell_type": "code",
   "source": [
    "from data_extraction.classes.extraction import Extraction  # adjust the import based on your file structure\n",
    "\n",
    "# Create an instance with the raw data file path and output directory\n",
    "extractor = Extraction(file_path=\"../data_ensembl/21-1-46709983.txt\", output_path=\"../data\")"
   ],
   "id": "c550c8c4fdd19e3d",
   "outputs": [],
   "execution_count": 1
  },
  {
   "metadata": {
    "ExecuteTime": {
     "end_time": "2025-03-21T23:38:55.175985Z",
     "start_time": "2025-03-21T23:38:44.949483Z"
    }
   },
   "cell_type": "code",
   "source": [
    "extractor.process_file()\n",
    "extractor.save_to_csv()\n"
   ],
   "id": "4cb4f85c9874e015",
   "outputs": [],
   "execution_count": 2
  }
 ],
 "metadata": {
  "kernelspec": {
   "display_name": "Python 3",
   "language": "python",
   "name": "python3"
  },
  "language_info": {
   "codemirror_mode": {
    "name": "ipython",
    "version": 2
   },
   "file_extension": ".py",
   "mimetype": "text/x-python",
   "name": "python",
   "nbconvert_exporter": "python",
   "pygments_lexer": "ipython2",
   "version": "2.7.6"
  }
 },
 "nbformat": 4,
 "nbformat_minor": 5
}
