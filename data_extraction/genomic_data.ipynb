{
 "cells": [
  {
   "cell_type": "code",
   "execution_count": null,
   "id": "c550c8c4fdd19e3d",
   "metadata": {
    "ExecuteTime": {
     "end_time": "2025-05-03T13:43:08.539081Z",
     "start_time": "2025-05-03T13:43:03.333111Z"
    }
   },
   "outputs": [
    {
     "ename": "ImportError",
     "evalue": "attempted relative import with no known parent package",
     "output_type": "error",
     "traceback": [
      "\u001b[31m---------------------------------------------------------------------------\u001b[39m",
      "\u001b[31mImportError\u001b[39m                               Traceback (most recent call last)",
      "\u001b[36mCell\u001b[39m\u001b[36m \u001b[39m\u001b[32mIn[3]\u001b[39m\u001b[32m, line 1\u001b[39m\n\u001b[32m----> \u001b[39m\u001b[32m1\u001b[39m \u001b[38;5;28;01mfrom\u001b[39;00m\u001b[38;5;250m \u001b[39m\u001b[34;01m.\u001b[39;00m\u001b[34;01mclasses\u001b[39;00m\u001b[34;01m.\u001b[39;00m\u001b[34;01mextraction\u001b[39;00m\u001b[38;5;250m \u001b[39m\u001b[38;5;28;01mimport\u001b[39;00m Extraction  \u001b[38;5;66;03m# adjust the import based on your file structure\u001b[39;00m\n\u001b[32m      3\u001b[39m \u001b[38;5;66;03m# Create an instance with the raw data file path and output directory\u001b[39;00m\n\u001b[32m      4\u001b[39m extractor = Extraction(file_paths=[\n\u001b[32m      5\u001b[39m     \u001b[33m\"\u001b[39m\u001b[33m../data_ensembl/3-1-198295559.txt\u001b[39m\u001b[33m\"\u001b[39m,\n\u001b[32m      6\u001b[39m     \u001b[33m\"\u001b[39m\u001b[33m../data_ensembl/4-1-190214555.txt\u001b[39m\u001b[33m\"\u001b[39m,\n\u001b[32m   (...)\u001b[39m\u001b[32m     10\u001b[39m     \u001b[33m\"\u001b[39m\u001b[33m../data_ensembl/Y-1-57227415.txt\u001b[39m\u001b[33m\"\u001b[39m,\n\u001b[32m     11\u001b[39m ], output_path=\u001b[33m\"\u001b[39m\u001b[33m../data\u001b[39m\u001b[33m\"\u001b[39m)\n",
      "\u001b[31mImportError\u001b[39m: attempted relative import with no known parent package"
     ]
    }
   ],
   "source": [
    "from classes.extraction import Extraction  # adjust the import based on your file structure\n",
    "\n",
    "# Create an instance with the raw data file path and output directory\n",
    "extractor = Extraction(file_paths=[\n",
    "    \"../data_ensembl/3-1-198295559.txt\",\n",
    "    \"../data_ensembl/4-1-190214555.txt\",\n",
    "    \"../data_ensembl/5-1-181538259.txt\",\n",
    "    \"../data_ensembl/20-1-64444167.txt\",\n",
    "    \"../data_ensembl/22-1-50818468.txt\",\n",
    "    \"../data_ensembl/Y-1-57227415.txt\",\n",
    "], output_path=\"../data\")"
   ]
  },
  {
   "cell_type": "code",
   "execution_count": 2,
   "id": "4cb4f85c9874e015",
   "metadata": {
    "ExecuteTime": {
     "end_time": "2025-05-03T13:45:22.874960Z",
     "start_time": "2025-05-03T13:43:13.833368Z"
    }
   },
   "outputs": [],
   "source": [
    "extractor.process_file()\n",
    "extractor.save_to_csv()\n"
   ]
  }
 ],
 "metadata": {
  "kernelspec": {
   "display_name": ".venv",
   "language": "python",
   "name": "python3"
  },
  "language_info": {
   "codemirror_mode": {
    "name": "ipython",
    "version": 3
   },
   "file_extension": ".py",
   "mimetype": "text/x-python",
   "name": "python",
   "nbconvert_exporter": "python",
   "pygments_lexer": "ipython3",
   "version": "3.11.2"
  }
 },
 "nbformat": 4,
 "nbformat_minor": 5
}
