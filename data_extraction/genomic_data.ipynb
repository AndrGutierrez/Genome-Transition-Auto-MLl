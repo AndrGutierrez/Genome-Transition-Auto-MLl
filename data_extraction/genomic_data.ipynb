{
 "cells": [
  {
   "metadata": {
    "ExecuteTime": {
     "end_time": "2025-04-04T13:49:59.162065Z",
     "start_time": "2025-04-04T13:49:55.272250Z"
    }
   },
   "cell_type": "code",
   "source": [
    "from data_extraction.classes.extraction import Extraction  # adjust the import based on your file structure\n",
    "\n",
    "# Create an instance with the raw data file path and output directory\n",
    "extractor = Extraction(file_paths=[\n",
    "    \"../data_ensembl/3-1-198295559.txt\",\n",
    "    \"../data_ensembl/4-1-190214555.txt\",\n",
    "    \"../data_ensembl/5-1-181538259.txt\",\n",
    "    \"../data_ensembl/20-1-64444167.txt\",\n",
    "    \"../data_ensembl/22-1-50818468.txt\",\n",
    "    \"../data_ensembl/Y-1-57227415.txt\",\n",
    "], output_path=\"../data\")"
   ],
   "id": "c550c8c4fdd19e3d",
   "outputs": [],
   "execution_count": 1
  },
  {
   "metadata": {
    "ExecuteTime": {
     "end_time": "2025-04-04T13:52:53.013852Z",
     "start_time": "2025-04-04T13:50:01.188143Z"
    }
   },
   "cell_type": "code",
   "source": [
    "extractor.process_file()\n",
    "extractor.save_to_csv()\n"
   ],
   "id": "4cb4f85c9874e015",
   "outputs": [],
   "execution_count": 2
  }
 ],
 "metadata": {
  "kernelspec": {
   "display_name": "Python 3",
   "language": "python",
   "name": "python3"
  },
  "language_info": {
   "codemirror_mode": {
    "name": "ipython",
    "version": 2
   },
   "file_extension": ".py",
   "mimetype": "text/x-python",
   "name": "python",
   "nbconvert_exporter": "python",
   "pygments_lexer": "ipython2",
   "version": "2.7.6"
  }
 },
 "nbformat": 4,
 "nbformat_minor": 5
}
