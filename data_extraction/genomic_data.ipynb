{
 "cells": [
  {
   "metadata": {
    "ExecuteTime": {
     "end_time": "2025-03-28T03:50:45.841889Z",
     "start_time": "2025-03-28T03:50:44.479058Z"
    }
   },
   "cell_type": "code",
   "source": [
    "from data_extraction.classes.extraction import Extraction  # adjust the import based on your file structure\n",
    "\n",
    "# Create an instance with the raw data file path and output directory\n",
    "extractor = Extraction(file_paths=[\n",
    "    \"../data_ensembl/21-1-46709983.txt\",\n",
    "    \"../data_ensembl/20-1-64444167.txt\",\n",
    "    \"../data_ensembl/22-1-50818468.txt\",\n",
    "    \"../data_ensembl/Y-1-57227415.txt\",\n",
    "], output_path=\"../data\")"
   ],
   "id": "c550c8c4fdd19e3d",
   "outputs": [],
   "execution_count": 3
  },
  {
   "metadata": {
    "ExecuteTime": {
     "end_time": "2025-03-28T03:51:39.968110Z",
     "start_time": "2025-03-28T03:50:47.299693Z"
    }
   },
   "cell_type": "code",
   "source": [
    "extractor.process_file()\n",
    "extractor.save_to_csv()\n"
   ],
   "id": "4cb4f85c9874e015",
   "outputs": [],
   "execution_count": 4
  }
 ],
 "metadata": {
  "kernelspec": {
   "display_name": "Python 3",
   "language": "python",
   "name": "python3"
  },
  "language_info": {
   "codemirror_mode": {
    "name": "ipython",
    "version": 2
   },
   "file_extension": ".py",
   "mimetype": "text/x-python",
   "name": "python",
   "nbconvert_exporter": "python",
   "pygments_lexer": "ipython2",
   "version": "2.7.6"
  }
 },
 "nbformat": 4,
 "nbformat_minor": 5
}
